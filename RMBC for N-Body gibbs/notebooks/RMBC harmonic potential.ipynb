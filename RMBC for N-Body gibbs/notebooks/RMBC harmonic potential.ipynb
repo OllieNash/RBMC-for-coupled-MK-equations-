{
 "cells": [
  {
   "cell_type": "code",
   "execution_count": 3,
   "id": "80541694",
   "metadata": {},
   "outputs": [
    {
     "ename": "ModuleNotFoundError",
     "evalue": "No module named 'numpy'",
     "output_type": "error",
     "traceback": [
      "\u001b[31m---------------------------------------------------------------------------\u001b[39m",
      "\u001b[31mModuleNotFoundError\u001b[39m                       Traceback (most recent call last)",
      "\u001b[36mCell\u001b[39m\u001b[36m \u001b[39m\u001b[32mIn[3]\u001b[39m\u001b[32m, line 1\u001b[39m\n\u001b[32m----> \u001b[39m\u001b[32m1\u001b[39m \u001b[38;5;28;01mimport\u001b[39;00m\u001b[38;5;250m \u001b[39m\u001b[34;01mnumpy\u001b[39;00m\u001b[38;5;250m \u001b[39m\u001b[38;5;28;01mas\u001b[39;00m\u001b[38;5;250m \u001b[39m\u001b[34;01mnp\u001b[39;00m\n\u001b[32m      2\u001b[39m \u001b[38;5;28;01mimport\u001b[39;00m\u001b[38;5;250m \u001b[39m\u001b[34;01mmatplotlib\u001b[39;00m\u001b[34;01m.\u001b[39;00m\u001b[34;01mpyplot\u001b[39;00m\u001b[38;5;250m \u001b[39m\u001b[38;5;28;01mas\u001b[39;00m\u001b[38;5;250m \u001b[39m\u001b[34;01mplt\u001b[39;00m\n\u001b[32m      4\u001b[39m \u001b[38;5;66;03m# Parameters\u001b[39;00m\n",
      "\u001b[31mModuleNotFoundError\u001b[39m: No module named 'numpy'"
     ]
    }
   ],
   "source": [
    "import numpy as np\n",
    "import matplotlib.pyplot as plt\n",
    "\n",
    "# Parameters\n",
    "N = 1000              # Number of particles\n",
    "T = 1.0               # Final time\n",
    "dt = 0.1             # Time step\n",
    "steps = int(T / dt)   # Number of time steps\n",
    "batch_size = 5       # Batch size for RBMC\n",
    "\n",
    "# Potential and interaction functions\n",
    "def V(x):\n",
    "    return 0.5 * x**2  # External potential (harmonic)\n",
    "\n",
    "def grad_V(x):\n",
    "    return x          # Gradient of V\n",
    "\n",
    "def W(x):\n",
    "    return 0.5 * x**2  # Interaction potential\n",
    "\n",
    "def grad_W(x):\n",
    "    return x          # Gradient of W\n",
    "\n",
    "# Initialize particles\n",
    "X = np.random.randn(N)\n",
    "\n",
    "# Time evolution using RBMC\n",
    "for t in range(steps):\n",
    "    np.random.shuffle(X)\n",
    "    batches = [X[i:i+batch_size] for i in range(0, N, batch_size)]\n",
    "    new_X = []\n",
    "    for batch in batches:\n",
    "        for j in range(len(batch)):\n",
    "            xj = batch[j]\n",
    "            interaction = np.mean([grad_W(xj - batch[k]) for k in range(len(batch)) if k != j])\n",
    "            drift = -grad_V(xj) - interaction\n",
    "            noise = np.sqrt(2 * dt) * np.random.randn()\n",
    "            xj_new = xj + drift * dt + noise\n",
    "            new_X.append(xj_new)\n",
    "    X = np.array(new_X)\n",
    "\n",
    "# Plot histogram of final particle distribution\n",
    "plt.hist(X, bins=50, density=True, alpha=0.7, label='RBMC Sample')\n",
    "x_vals = np.linspace(-4, 4, 200)\n",
    "plt.plot(x_vals, np.exp(-V(x_vals)), label='Target Density (unnormalized)', color='red')\n",
    "plt.title('RBMC Approximation of Stationary Fokker-Planck Solution')\n",
    "plt.legend()\n",
    "plt.xlabel('x')\n",
    "plt.ylabel('Density')\n",
    "plt.grid(True)\n",
    "plt.savefig(\"rbmc_fokker_planck.png\")\n",
    "plt.show()"
   ]
  }
 ],
 "metadata": {
  "kernelspec": {
   "display_name": "Python 3",
   "language": "python",
   "name": "python3"
  },
  "language_info": {
   "codemirror_mode": {
    "name": "ipython",
    "version": 3
   },
   "file_extension": ".py",
   "mimetype": "text/x-python",
   "name": "python",
   "nbconvert_exporter": "python",
   "pygments_lexer": "ipython3",
   "version": "3.14.0"
  }
 },
 "nbformat": 4,
 "nbformat_minor": 5
}
